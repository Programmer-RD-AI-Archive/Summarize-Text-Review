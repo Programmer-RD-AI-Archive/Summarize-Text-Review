{
 "cells": [
  {
   "cell_type": "code",
   "execution_count": 1,
   "id": "54917e48-285f-4f9f-9a72-3362584fd5df",
   "metadata": {},
   "outputs": [],
   "source": [
    "import nltk\n",
    "from nltk.stem.porter import *\n",
    "from torch.nn import *\n",
    "from torch.optim import *\n",
    "import numpy as np\n",
    "import pandas as pd\n",
    "import torch,torchvision\n",
    "import random\n",
    "from tqdm import *\n",
    "from torch.utils.data import Dataset,DataLoader\n",
    "stemmer = PorterStemmer()"
   ]
  },
  {
   "cell_type": "code",
   "execution_count": 2,
   "id": "ec56e8b2-ea5d-4e3a-a7a5-0fe366ec72e3",
   "metadata": {},
   "outputs": [],
   "source": [
    "def tokenize(sentence):\n",
    "    return nltk.word_tokenize(sentence)"
   ]
  },
  {
   "cell_type": "code",
   "execution_count": 3,
   "id": "f20915c6-cfdd-4022-99b2-72df36533a8b",
   "metadata": {},
   "outputs": [
    {
     "data": {
      "text/plain": [
       "['$', '100']"
      ]
     },
     "execution_count": 3,
     "metadata": {},
     "output_type": "execute_result"
    }
   ],
   "source": [
    "tokenize('$100')"
   ]
  },
  {
   "cell_type": "code",
   "execution_count": 4,
   "id": "7113bca8-a709-4a2b-a70f-d914d7b3903a",
   "metadata": {},
   "outputs": [],
   "source": [
    "def stem(word):\n",
    "    return stemmer.stem(word.lower())"
   ]
  },
  {
   "cell_type": "code",
   "execution_count": 5,
   "id": "cbf23ba5-b881-4526-a3e8-cc8ecf87d7bf",
   "metadata": {},
   "outputs": [
    {
     "data": {
      "text/plain": [
       "'organ'"
      ]
     },
     "execution_count": 5,
     "metadata": {},
     "output_type": "execute_result"
    }
   ],
   "source": [
    "stem('organic')"
   ]
  },
  {
   "cell_type": "code",
   "execution_count": 6,
   "id": "83d42737-f0c7-4269-9844-afaad7df251f",
   "metadata": {},
   "outputs": [],
   "source": [
    "def bag_of_words(tokenized_words,all_words):\n",
    "    tokenized_words = [stem(w) for w in tokenized_words]\n",
    "    bag = np.zeros(len(all_words))\n",
    "    for idx,w in enumerate(all_words):\n",
    "        if w in tokenized_words:\n",
    "            bag[idx] = 1.0\n",
    "    return bag"
   ]
  },
  {
   "cell_type": "code",
   "execution_count": 7,
   "id": "7d5eeb4d-f33d-46e7-be63-6aded67b975d",
   "metadata": {},
   "outputs": [
    {
     "data": {
      "text/plain": [
       "array([0., 1.])"
      ]
     },
     "execution_count": 7,
     "metadata": {},
     "output_type": "execute_result"
    }
   ],
   "source": [
    "bag_of_words(['hi'],['how','hi'])"
   ]
  },
  {
   "cell_type": "code",
   "execution_count": 8,
   "id": "7f93d357-7ddb-4c86-bc24-3358d1054367",
   "metadata": {},
   "outputs": [],
   "source": [
    "data = pd.read_csv('./data.csv')"
   ]
  },
  {
   "cell_type": "code",
   "execution_count": 9,
   "id": "9c590479-070c-481f-b016-38fdd45c10d8",
   "metadata": {},
   "outputs": [],
   "source": [
    "data = data[:1000]"
   ]
  },
  {
   "cell_type": "code",
   "execution_count": 10,
   "id": "280d10e2-f647-47c9-8ae1-42cd6f619bae",
   "metadata": {},
   "outputs": [],
   "source": [
    "X = data['Text']\n",
    "y = data['Summary']"
   ]
  },
  {
   "cell_type": "code",
   "execution_count": 11,
   "id": "b2e2dd93-db58-4923-9607-5a6e91945a63",
   "metadata": {},
   "outputs": [],
   "source": [
    "X_words = []\n",
    "data = []\n",
    "y_words = []"
   ]
  },
  {
   "cell_type": "code",
   "execution_count": 12,
   "id": "15e6f4ef-4b01-422f-8fb9-59936bee321f",
   "metadata": {},
   "outputs": [
    {
     "name": "stderr",
     "output_type": "stream",
     "text": [
      "1000it [00:01, 727.34it/s]\n"
     ]
    }
   ],
   "source": [
    "for X_batch,y_batch in tqdm(zip(X,y)):\n",
    "    X_batch = tokenize(X_batch)\n",
    "    y_batch = tokenize(y_batch)\n",
    "    new_X = []\n",
    "    new_y = []\n",
    "    for Xb in X_batch:\n",
    "        new_X.append(stem(Xb))\n",
    "    for yb in y_batch:\n",
    "        new_y.append(stem(yb))\n",
    "    X_words.extend(new_X)\n",
    "    y_words.extend(new_y)\n",
    "    data.append([new_X,new_y])"
   ]
  },
  {
   "cell_type": "code",
   "execution_count": 13,
   "id": "dc83ad93-a0c8-4acc-9ba6-929b2b05edfb",
   "metadata": {},
   "outputs": [],
   "source": [
    "X_words = sorted(set(X_words))\n",
    "y_words = sorted(set(y_words))"
   ]
  },
  {
   "cell_type": "code",
   "execution_count": 14,
   "id": "ededda9a-dfbb-4b74-85eb-a857b7be6c71",
   "metadata": {},
   "outputs": [],
   "source": [
    "np.random.shuffle(data)"
   ]
  },
  {
   "cell_type": "code",
   "execution_count": 15,
   "id": "0a6a8c55-5061-4c50-97e5-69c2b2f61ca3",
   "metadata": {},
   "outputs": [],
   "source": [
    "X = []\n",
    "y = []"
   ]
  },
  {
   "cell_type": "code",
   "execution_count": 16,
   "id": "a48e6c8d-38a5-4b9d-b952-02cc722c7286",
   "metadata": {},
   "outputs": [
    {
     "name": "stderr",
     "output_type": "stream",
     "text": [
      "100%|██████████████████████████████████████| 1000/1000 [00:03<00:00, 254.79it/s]\n"
     ]
    }
   ],
   "source": [
    "for X_batch,y_batch in tqdm(data):\n",
    "    X.append(bag_of_words(X_batch,X_words))\n",
    "    y.append(bag_of_words(y_batch,y_words))"
   ]
  },
  {
   "cell_type": "code",
   "execution_count": 17,
   "id": "62b5705f-e367-425c-92b5-d44583136957",
   "metadata": {},
   "outputs": [],
   "source": [
    "from sklearn.model_selection import * "
   ]
  },
  {
   "cell_type": "code",
   "execution_count": 18,
   "id": "59c57b15-293b-48fa-8c30-c2af66f8ddee",
   "metadata": {},
   "outputs": [],
   "source": [
    "X_train,X_test,y_train,y_test = train_test_split(X,y,test_size=0.25,shuffle=False)"
   ]
  },
  {
   "cell_type": "code",
   "execution_count": 19,
   "id": "ad21cde8-a777-4046-9270-a1ffc97057bd",
   "metadata": {},
   "outputs": [],
   "source": [
    "device = 'cuda'"
   ]
  },
  {
   "cell_type": "code",
   "execution_count": 20,
   "id": "ad37d0af-7a5e-440c-86b5-62bf5f3dd373",
   "metadata": {},
   "outputs": [],
   "source": [
    "X_train = torch.from_numpy(np.array(X_train)).to(device).float()\n",
    "y_train = torch.from_numpy(np.array(y_train)).to(device).float()\n",
    "X_test = torch.from_numpy(np.array(X_test)).to(device).float()\n",
    "y_test = torch.from_numpy(np.array(y_test)).to(device).float()"
   ]
  },
  {
   "cell_type": "code",
   "execution_count": 21,
   "id": "934bd9bd-9517-4e9b-b035-1514a9bab02e",
   "metadata": {},
   "outputs": [],
   "source": [
    "# torch.save(X_train,'X_train.pt')\n",
    "# torch.save(X_test,'X_test.pth')\n",
    "# torch.save(y_train,'y_train.pt')\n",
    "# torch.save(y_test,'y_test.pth')\n",
    "# torch.save(X,'X.pt')\n",
    "# torch.save(X,'X.pth')\n",
    "# torch.save(y,'y.pt')\n",
    "# torch.save(y,'y.pth')"
   ]
  },
  {
   "cell_type": "code",
   "execution_count": 22,
   "id": "e9f345ab-66ae-432e-b877-a66541d708d7",
   "metadata": {},
   "outputs": [],
   "source": [
    "# torch.save(X_words,'X_words.pt')\n",
    "# torch.save(X_words,'X_words.pth')\n",
    "# torch.save(data,'data.pt')\n",
    "# torch.save(data,'data.pth')\n",
    "# torch.save(y_words,'y_words.pt')\n",
    "# torch.save(y_words,'y_words.pth')"
   ]
  },
  {
   "cell_type": "code",
   "execution_count": 23,
   "id": "6dbb8c64-4b8d-4683-9819-85b60d7925d4",
   "metadata": {},
   "outputs": [],
   "source": [
    "def get_accuracy(model,X,y):\n",
    "    accs = []\n",
    "    preds = model(X)\n",
    "    correct = 0\n",
    "    total = 0\n",
    "    for pred,yb in zip(preds,y):\n",
    "        for pred_in_pred,yb_in_yb in zip(pred,yb):\n",
    "            pred_in_pred = int(torch.argmax(pred_in_pred))\n",
    "            yb_in_yb = int(torch.argmax(yb_in_yb))\n",
    "            if pred_in_pred == yb_in_yb:\n",
    "                correct += 1\n",
    "            total += 1\n",
    "        acc = round(correct/total,3)*100\n",
    "        accs.append(acc)\n",
    "    print(accs)\n",
    "    print(yb_in_yb)\n",
    "    print(pred_in_pred)\n",
    "    acc = np.mean(accs)\n",
    "    return acc"
   ]
  },
  {
   "cell_type": "code",
   "execution_count": 24,
   "id": "977d2a15-cca9-48a4-91ee-ac48a4457920",
   "metadata": {},
   "outputs": [],
   "source": [
    "def get_loss(model,X,y,criterion):\n",
    "    preds = model(X)\n",
    "    loss = criterion(preds,y)\n",
    "    return loss.item()"
   ]
  },
  {
   "cell_type": "code",
   "execution_count": 25,
   "id": "3d35b841-c52d-4eeb-ba87-35c6bb3e4997",
   "metadata": {},
   "outputs": [],
   "source": [
    "class Model(Module):\n",
    "    def __init__(self):\n",
    "        super().__init__()\n",
    "        self.activation = ReLU()\n",
    "        self.iters = 10\n",
    "        self.linear1 = Linear(len(X_words),256)\n",
    "        self.linear2 = Linear(256,256)\n",
    "        self.linear2bn = BatchNorm1d(256)\n",
    "        self.output = Linear(256,len(y_words))\n",
    "    \n",
    "    def forward(self,X):\n",
    "        preds = self.linear1(X)\n",
    "        for _ in range(self.iters):\n",
    "            preds = self.activation(self.linear2bn(self.linear2(preds)))\n",
    "        preds = self.output(preds)\n",
    "        return preds"
   ]
  },
  {
   "cell_type": "code",
   "execution_count": 26,
   "id": "4c72ca59-e1ef-454e-8e86-f669f2f7f859",
   "metadata": {},
   "outputs": [],
   "source": [
    "model = Model().to(device)\n",
    "criterion = MSELoss()\n",
    "optimizer = Adam(model.parameters(),lr=0.001)\n",
    "batch_size = 32\n",
    "epochs = 100"
   ]
  },
  {
   "cell_type": "code",
   "execution_count": 27,
   "id": "8f7fef5b-0405-4ce1-bdb5-39fabbad83f5",
   "metadata": {},
   "outputs": [],
   "source": [
    "import wandb\n",
    "PROJECT_NAME = 'Summarize-Text-Review'"
   ]
  },
  {
   "cell_type": "code",
   "execution_count": null,
   "id": "9f383fd0-9b54-4d0c-8836-16aa1f107cbf",
   "metadata": {},
   "outputs": [
    {
     "name": "stderr",
     "output_type": "stream",
     "text": [
      "\u001b[34m\u001b[1mwandb\u001b[0m: Currently logged in as: \u001b[33mranuga-d\u001b[0m (use `wandb login --relogin` to force relogin)\n",
      "\u001b[34m\u001b[1mwandb\u001b[0m: wandb version 0.12.2 is available!  To upgrade, please run:\n",
      "\u001b[34m\u001b[1mwandb\u001b[0m:  $ pip install wandb --upgrade\n"
     ]
    },
    {
     "data": {
      "text/html": [
       "\n",
       "                Tracking run with wandb version 0.12.1<br/>\n",
       "                Syncing run <strong style=\"color:#cdcd00\">baseline</strong> to <a href=\"https://wandb.ai\" target=\"_blank\">Weights & Biases</a> <a href=\"https://docs.wandb.com/integrations/jupyter.html\" target=\"_blank\">(Documentation)</a>.<br/>\n",
       "                Project page: <a href=\"https://wandb.ai/ranuga-d/Summarize-Text-Review\" target=\"_blank\">https://wandb.ai/ranuga-d/Summarize-Text-Review</a><br/>\n",
       "                Run page: <a href=\"https://wandb.ai/ranuga-d/Summarize-Text-Review/runs/rnbnn7eb\" target=\"_blank\">https://wandb.ai/ranuga-d/Summarize-Text-Review/runs/rnbnn7eb</a><br/>\n",
       "                Run data is saved locally in <code>/home/indika/Programming/Projects/Python/Artifical-Intelligence/PyTorch/NLP/Summarize-Text-Review/wandb/run-20210917_201307-rnbnn7eb</code><br/><br/>\n",
       "            "
      ],
      "text/plain": [
       "<IPython.core.display.HTML object>"
      ]
     },
     "metadata": {},
     "output_type": "display_data"
    },
    {
     "name": "stderr",
     "output_type": "stream",
     "text": [
      "  1%|▍                                        | 1/100 [00:42<1:09:35, 42.18s/it]"
     ]
    }
   ],
   "source": [
    "wandb.init(project=PROJECT_NAME,name='baseline')\n",
    "for _ in tqdm(range(epochs)):\n",
    "    for i in range(0,len(X_train),batch_size):\n",
    "        X_batch = X_train[i:i+batch_size].to(device)\n",
    "        y_batch = y_train[i:i+batch_size].to(device)\n",
    "        preds = model(X_batch)\n",
    "        loss = criterion(preds,y_batch)\n",
    "        optimizer.zero_grad()\n",
    "        loss.backward()\n",
    "        optimizer.step()\n",
    "    model.eval()\n",
    "    torch.cuda.empty_cache()\n",
    "    wandb.log({'Loss':get_loss(model,X_train,y_train,criterion)})\n",
    "    torch.cuda.empty_cache()\n",
    "    wandb.log({'Val Loss':get_loss(model,X_test,y_test,criterion)})\n",
    "    torch.cuda.empty_cache()\n",
    "    wandb.log({'Acc':get_accuracy(model,X_train,y_train)})\n",
    "    torch.cuda.empty_cache()\n",
    "    wandb.log({'Val Acc':get_accuracy(model,X_test,y_test)})\n",
    "    torch.cuda.empty_cache()\n",
    "    model.train()\n",
    "wandb.finish()"
   ]
  },
  {
   "cell_type": "code",
   "execution_count": null,
   "id": "954bdc44-1494-4995-8a5c-ed2b5656f13a",
   "metadata": {},
   "outputs": [],
   "source": [
    "torch.save(model,'model.pt')\n",
    "torch.save(model,'model.pth')\n",
    "torch.save(model.state_dict(),'model-sd.pt')\n",
    "torch.save(model.state_dict(),'model-sd.pth')"
   ]
  },
  {
   "cell_type": "code",
   "execution_count": null,
   "id": "3416ec58-6787-46c3-ac80-58b20e5b0453",
   "metadata": {},
   "outputs": [],
   "source": []
  }
 ],
 "metadata": {
  "kernelspec": {
   "display_name": "Python 3.7.3 64-bit ('base': conda)",
   "language": "python",
   "name": "python373jvsc74a57bd0210f9608a45c0278a93c9e0b10db32a427986ab48cfc0d20c139811eb78c4bbc"
  },
  "language_info": {
   "codemirror_mode": {
    "name": "ipython",
    "version": 3
   },
   "file_extension": ".py",
   "mimetype": "text/x-python",
   "name": "python",
   "nbconvert_exporter": "python",
   "pygments_lexer": "ipython3",
   "version": "3.7.11"
  }
 },
 "nbformat": 4,
 "nbformat_minor": 5
}
