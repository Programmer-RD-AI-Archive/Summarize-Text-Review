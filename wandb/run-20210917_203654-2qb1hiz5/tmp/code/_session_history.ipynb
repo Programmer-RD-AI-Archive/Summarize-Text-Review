{
 "cells": [
  {
   "cell_type": "code",
   "execution_count": 1,
   "id": "924e59c5",
   "metadata": {},
   "outputs": [],
   "source": [
    "import nltk\n",
    "from nltk.stem.porter import *\n",
    "from torch.nn import *\n",
    "from torch.optim import *\n",
    "import numpy as np\n",
    "import pandas as pd\n",
    "import torch,torchvision\n",
    "import random\n",
    "from tqdm import *\n",
    "from torch.utils.data import Dataset,DataLoader\n",
    "stemmer = PorterStemmer()"
   ]
  },
  {
   "cell_type": "code",
   "execution_count": 2,
   "id": "6f1ea67e",
   "metadata": {},
   "outputs": [],
   "source": [
    "def tokenize(sentence):\n",
    "    return nltk.word_tokenize(sentence)"
   ]
  },
  {
   "cell_type": "code",
   "execution_count": 3,
   "id": "37ac3332",
   "metadata": {},
   "outputs": [
    {
     "name": "stdout",
     "output_type": "stream",
     "text": [
      "['$', '100']"
     ]
    }
   ],
   "source": [
    "tokenize('$100')"
   ]
  },
  {
   "cell_type": "code",
   "execution_count": 4,
   "id": "47e1c619",
   "metadata": {},
   "outputs": [],
   "source": [
    "def stem(word):\n",
    "    return stemmer.stem(word.lower())"
   ]
  },
  {
   "cell_type": "code",
   "execution_count": 5,
   "id": "3117adf9",
   "metadata": {},
   "outputs": [
    {
     "name": "stdout",
     "output_type": "stream",
     "text": [
      "'organ'"
     ]
    }
   ],
   "source": [
    "stem('organic')"
   ]
  },
  {
   "cell_type": "code",
   "execution_count": 6,
   "id": "86415ed4",
   "metadata": {},
   "outputs": [],
   "source": [
    "def bag_of_words(tokenized_words,all_words):\n",
    "    tokenized_words = [stem(w) for w in tokenized_words]\n",
    "    bag = np.zeros(len(all_words))\n",
    "    for idx,w in enumerate(all_words):\n",
    "        if w in tokenized_words:\n",
    "            bag[idx] = 1.0\n",
    "    return bag"
   ]
  },
  {
   "cell_type": "code",
   "execution_count": 7,
   "id": "95315047",
   "metadata": {},
   "outputs": [
    {
     "name": "stdout",
     "output_type": "stream",
     "text": [
      "array([0., 1.])"
     ]
    }
   ],
   "source": [
    "bag_of_words(['hi'],['how','hi'])"
   ]
  },
  {
   "cell_type": "code",
   "execution_count": 8,
   "id": "0b1ebcc2",
   "metadata": {},
   "outputs": [],
   "source": [
    "data = pd.read_csv('./data.csv')"
   ]
  },
  {
   "cell_type": "code",
   "execution_count": 9,
   "id": "5d37ccd0",
   "metadata": {},
   "outputs": [],
   "source": [
    "data = data[:1000]"
   ]
  },
  {
   "cell_type": "code",
   "execution_count": 10,
   "id": "b36e089f",
   "metadata": {},
   "outputs": [],
   "source": [
    "X = data['Text']\n",
    "y = data['Summary']"
   ]
  },
  {
   "cell_type": "code",
   "execution_count": 11,
   "id": "3fbf09a1",
   "metadata": {},
   "outputs": [],
   "source": [
    "X_words = []\n",
    "data = []\n",
    "y_words = []"
   ]
  },
  {
   "cell_type": "code",
   "execution_count": 12,
   "id": "1c89fca7",
   "metadata": {},
   "outputs": [],
   "source": [
    "for X_batch,y_batch in tqdm(zip(X,y)):\n",
    "    X_batch = tokenize(X_batch)\n",
    "    y_batch = tokenize(y_batch)\n",
    "    new_X = []\n",
    "    new_y = []\n",
    "    for Xb in X_batch:\n",
    "        new_X.append(stem(Xb))\n",
    "    for yb in y_batch:\n",
    "        new_y.append(stem(yb))\n",
    "    X_words.extend(new_X)\n",
    "    y_words.extend(new_y)\n",
    "    data.append([new_X,new_y])"
   ]
  },
  {
   "cell_type": "code",
   "execution_count": 13,
   "id": "22fd35e9",
   "metadata": {},
   "outputs": [],
   "source": [
    "X_words = sorted(set(X_words))\n",
    "y_words = sorted(set(y_words))"
   ]
  },
  {
   "cell_type": "code",
   "execution_count": 14,
   "id": "99a58c76",
   "metadata": {},
   "outputs": [],
   "source": [
    "np.random.shuffle(data)"
   ]
  },
  {
   "cell_type": "code",
   "execution_count": 15,
   "id": "ab5cff72",
   "metadata": {},
   "outputs": [],
   "source": [
    "X = []\n",
    "y = []"
   ]
  },
  {
   "cell_type": "code",
   "execution_count": 16,
   "id": "975c909d",
   "metadata": {},
   "outputs": [],
   "source": [
    "for X_batch,y_batch in tqdm(data):\n",
    "    X.append(bag_of_words(X_batch,X_words))\n",
    "    y.append(bag_of_words(y_batch,y_words))"
   ]
  },
  {
   "cell_type": "code",
   "execution_count": 17,
   "id": "30f07d95",
   "metadata": {},
   "outputs": [],
   "source": [
    "from sklearn.model_selection import * "
   ]
  },
  {
   "cell_type": "code",
   "execution_count": 18,
   "id": "54b5e3ba",
   "metadata": {},
   "outputs": [],
   "source": [
    "X_train,X_test,y_train,y_test = train_test_split(X,y,test_size=0.25,shuffle=False)"
   ]
  },
  {
   "cell_type": "code",
   "execution_count": 19,
   "id": "e8b2ee6a",
   "metadata": {},
   "outputs": [],
   "source": [
    "device = 'cuda'"
   ]
  },
  {
   "cell_type": "code",
   "execution_count": 20,
   "id": "9ec7dd7e",
   "metadata": {},
   "outputs": [],
   "source": [
    "X_train = torch.from_numpy(np.array(X_train)).to(device).float()\n",
    "y_train = torch.from_numpy(np.array(y_train)).to(device).float()\n",
    "X_test = torch.from_numpy(np.array(X_test)).to(device).float()\n",
    "y_test = torch.from_numpy(np.array(y_test)).to(device).float()"
   ]
  },
  {
   "cell_type": "code",
   "execution_count": 21,
   "id": "65dea85f",
   "metadata": {},
   "outputs": [],
   "source": [
    "# torch.save(X_train,'X_train.pt')\n",
    "# torch.save(X_test,'X_test.pth')\n",
    "# torch.save(y_train,'y_train.pt')\n",
    "# torch.save(y_test,'y_test.pth')\n",
    "# torch.save(X,'X.pt')\n",
    "# torch.save(X,'X.pth')\n",
    "# torch.save(y,'y.pt')\n",
    "# torch.save(y,'y.pth')"
   ]
  },
  {
   "cell_type": "code",
   "execution_count": 22,
   "id": "708e9add",
   "metadata": {},
   "outputs": [],
   "source": [
    "# torch.save(X_words,'X_words.pt')\n",
    "# torch.save(X_words,'X_words.pth')\n",
    "# torch.save(data,'data.pt')\n",
    "# torch.save(data,'data.pth')\n",
    "# torch.save(y_words,'y_words.pt')\n",
    "# torch.save(y_words,'y_words.pth')"
   ]
  },
  {
   "cell_type": "code",
   "execution_count": 23,
   "id": "04f87a7e",
   "metadata": {},
   "outputs": [],
   "source": [
    "def get_accuracy(model,X,y):\n",
    "    preds = model(X_test)\n",
    "    correct = 0\n",
    "    total = 0\n",
    "    for pred,yb in zip(preds,y_test):\n",
    "        for pred_in_pred,yb_in_yb in zip(pred,yb):\n",
    "            pred_in_pred = int(torch.argmax(pred_in_pred))\n",
    "            yb_in_yb = int(yb_in_yb)\n",
    "            if pred_in_pred == yb_in_yb:\n",
    "                correct += 1\n",
    "            total += 1\n",
    "    acc = round(correct/total,3)*100\n",
    "    return acc"
   ]
  },
  {
   "cell_type": "code",
   "execution_count": 24,
   "id": "60067d2c",
   "metadata": {},
   "outputs": [],
   "source": [
    "def get_loss(model,X,y,criterion):\n",
    "    preds = model(X)\n",
    "    loss = criterion(preds,y)\n",
    "    return loss.item()"
   ]
  },
  {
   "cell_type": "code",
   "execution_count": 25,
   "id": "175b1318",
   "metadata": {},
   "outputs": [],
   "source": [
    "class Model(Module):\n",
    "    def __init__(self):\n",
    "        super().__init__()\n",
    "        self.activation = ReLU()\n",
    "        self.iters = 10\n",
    "        self.linear1 = Linear(len(X_words),256)\n",
    "        self.linear2 = Linear(256,256)\n",
    "        self.linear2bn = BatchNorm1d(256)\n",
    "        self.output = Linear(256,len(y_words))\n",
    "    \n",
    "    def forward(self,X):\n",
    "        preds = self.linear1(X)\n",
    "        for _ in range(self.iters):\n",
    "            preds = self.activation(self.linear2bn(self.linear2(preds)))\n",
    "        preds = self.output(preds)\n",
    "        return preds"
   ]
  },
  {
   "cell_type": "code",
   "execution_count": 26,
   "id": "6f26dcc8",
   "metadata": {},
   "outputs": [],
   "source": [
    "model = Model().to(device)\n",
    "criterion = MSELoss()\n",
    "optimizer = Adam(model.parameters(),lr=0.001)\n",
    "batch_size = 32\n",
    "epochs = 100"
   ]
  },
  {
   "cell_type": "code",
   "execution_count": 27,
   "id": "6a8888d4",
   "metadata": {},
   "outputs": [],
   "source": [
    "import wandb\n",
    "PROJECT_NAME = 'Summarize-Text-Review'"
   ]
  },
  {
   "cell_type": "code",
   "execution_count": 28,
   "id": "1fdc5823",
   "metadata": {},
   "outputs": [
    {
     "data": {
      "text/html": [
       "\n",
       "                Tracking run with wandb version 0.12.1<br/>\n",
       "                Syncing run <strong style=\"color:#cdcd00\">baseline</strong> to <a href=\"https://wandb.ai\" target=\"_blank\">Weights & Biases</a> <a href=\"https://docs.wandb.com/integrations/jupyter.html\" target=\"_blank\">(Documentation)</a>.<br/>\n",
       "                Project page: <a href=\"https://wandb.ai/ranuga-d/Summarize-Text-Review\" target=\"_blank\">https://wandb.ai/ranuga-d/Summarize-Text-Review</a><br/>\n",
       "                Run page: <a href=\"https://wandb.ai/ranuga-d/Summarize-Text-Review/runs/2qb1hiz5\" target=\"_blank\">https://wandb.ai/ranuga-d/Summarize-Text-Review/runs/2qb1hiz5</a><br/>\n",
       "                Run data is saved locally in <code>/home/indika/Programming/Projects/Python/Artifical-Intelligence/PyTorch/NLP/Summarize-Text-Review/wandb/run-20210917_203654-2qb1hiz5</code><br/><br/>\n",
       "            "
      ],
      "text/plain": [
       "<IPython.core.display.HTML object>"
      ]
     },
     "metadata": {},
     "output_type": "display_data"
    }
   ],
   "source": [
    "wandb.init(project=PROJECT_NAME,name='baseline')\n",
    "for _ in tqdm(range(epochs)):\n",
    "    for i in range(0,len(X_train),batch_size):\n",
    "        X_batch = X_train[i:i+batch_size].to(device)\n",
    "        y_batch = y_train[i:i+batch_size].to(device)\n",
    "        preds = model(X_batch)\n",
    "        loss = criterion(preds,y_batch)\n",
    "        optimizer.zero_grad()\n",
    "        loss.backward()\n",
    "        optimizer.step()\n",
    "    model.eval()\n",
    "    torch.cuda.empty_cache()\n",
    "    wandb.log({'Loss':get_loss(model,X_train,y_train,criterion)})\n",
    "    torch.cuda.empty_cache()\n",
    "    wandb.log({'Val Loss':get_loss(model,X_test,y_test,criterion)})\n",
    "    torch.cuda.empty_cache()\n",
    "    wandb.log({'Acc':get_accuracy(model,X_train,y_train)})\n",
    "    torch.cuda.empty_cache()\n",
    "    wandb.log({'Val Acc':get_accuracy(model,X_test,y_test)})\n",
    "    torch.cuda.empty_cache()\n",
    "    model.train()\n",
    "    print(matrix_to_words(y_words,preds[0]))\n",
    "wandb.finish()"
   ]
  },
  {
   "cell_type": "code",
   "execution_count": 29,
   "id": "b87986dc",
   "metadata": {},
   "outputs": [],
   "source": [
    "def matrix_to_words(words,matrix):\n",
    "    word = []\n",
    "    for idx,m in enumerate(matrix):\n",
    "        m = int(torch.argmax(m))\n",
    "        print(m)\n",
    "        if m == 1:\n",
    "            word.append(words[idx])\n",
    "    return word"
   ]
  },
  {
   "cell_type": "code",
   "execution_count": 30,
   "id": "5e1b4aa9",
   "metadata": {},
   "outputs": [],
   "source": [
    "wandb.init(project=PROJECT_NAME,name='baseline')\n",
    "for _ in tqdm(range(epochs)):\n",
    "    for i in range(0,len(X_train),batch_size):\n",
    "        X_batch = X_train[i:i+batch_size].to(device)\n",
    "        y_batch = y_train[i:i+batch_size].to(device)\n",
    "        preds = model(X_batch)\n",
    "        loss = criterion(preds,y_batch)\n",
    "        optimizer.zero_grad()\n",
    "        loss.backward()\n",
    "        optimizer.step()\n",
    "    model.eval()\n",
    "    torch.cuda.empty_cache()\n",
    "    wandb.log({'Loss':get_loss(model,X_train,y_train,criterion)})\n",
    "    torch.cuda.empty_cache()\n",
    "    wandb.log({'Val Loss':get_loss(model,X_test,y_test,criterion)})\n",
    "    torch.cuda.empty_cache()\n",
    "    wandb.log({'Acc':get_accuracy(model,X_train,y_train)})\n",
    "    torch.cuda.empty_cache()\n",
    "    wandb.log({'Val Acc':get_accuracy(model,X_test,y_test)})\n",
    "    torch.cuda.empty_cache()\n",
    "    model.train()\n",
    "    print(matrix_to_words(y_words,preds[0]))\n",
    "wandb.finish()"
   ]
  }
 ],
 "metadata": {
  "kernelspec": {
   "display_name": "Python 3",
   "language": "python",
   "name": "python3"
  },
  "language_info": {
   "codemirror_mode": {
    "name": "ipython",
    "version": 3
   },
   "file_extension": ".py",
   "mimetype": "text/x-python",
   "name": "python",
   "nbconvert_exporter": "python",
   "pygments_lexer": "ipython3",
   "version": "3.7.11"
  }
 },
 "nbformat": 4,
 "nbformat_minor": 5
}
